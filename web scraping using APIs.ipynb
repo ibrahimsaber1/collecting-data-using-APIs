{
 "cells": [
  {
   "cell_type": "code",
   "execution_count": 1,
   "id": "1b3b1316",
   "metadata": {},
   "outputs": [],
   "source": [
    "import requests"
   ]
  },
  {
   "cell_type": "code",
   "execution_count": 13,
   "id": "b65bddf9",
   "metadata": {},
   "outputs": [
    {
     "data": {
      "text/plain": [
       "<Response [200]>"
      ]
     },
     "execution_count": 13,
     "metadata": {},
     "output_type": "execute_result"
    }
   ],
   "source": [
    "# connecting to the data\n",
    "base_Url = \"https://api.covidtracking.com/v2/states/wa/2021-01-02.json\"\n",
    "\n",
    "\n",
    "res = requests.get(base_Url)\n",
    "res"
   ]
  },
  {
   "cell_type": "code",
   "execution_count": 14,
   "id": "53930e55",
   "metadata": {},
   "outputs": [
    {
     "data": {
      "text/plain": [
       "dict"
      ]
     },
     "execution_count": 14,
     "metadata": {},
     "output_type": "execute_result"
    }
   ],
   "source": [
    "\n",
    "covid_data_us = res.json()\n",
    "type(covid_data_us)"
   ]
  },
  {
   "cell_type": "code",
   "execution_count": 4,
   "id": "12e6435b",
   "metadata": {},
   "outputs": [
    {
     "data": {
      "text/plain": [
       "{'meta': {'build_time': '2021-06-01T07:03:56.006Z',\n",
       "  'license': 'CC-BY-4.0',\n",
       "  'version': '2.0-beta',\n",
       "  'field_definitions': [{'name': 'Total test results',\n",
       "    'field': 'tests.pcr.total',\n",
       "    'deprecated': False,\n",
       "    'prior_names': ['totalTestResults']},\n",
       "   {'name': 'Hospital discharges', 'deprecated': False, 'prior_names': []},\n",
       "   {'name': 'Confirmed Cases',\n",
       "    'field': 'cases.confirmed',\n",
       "    'deprecated': False,\n",
       "    'prior_names': ['positiveCasesViral']},\n",
       "   {'name': 'Cumulative hospitalized/Ever hospitalized',\n",
       "    'field': 'outcomes.hospitalized.total',\n",
       "    'deprecated': False,\n",
       "    'prior_names': ['hospitalizedCumulative']},\n",
       "   {'name': 'Cumulative in ICU/Ever in ICU',\n",
       "    'field': 'outcomes.hospitalized.in_icu',\n",
       "    'deprecated': False,\n",
       "    'prior_names': ['inIcuCumulative']},\n",
       "   {'name': 'Cumulative on ventilator/Ever on ventilator',\n",
       "    'field': 'hospitalization.on_ventilator.cumulative',\n",
       "    'deprecated': False,\n",
       "    'prior_names': ['onVentilatorCumulative']},\n",
       "   {'name': 'Currently hospitalized/Now hospitalized',\n",
       "    'field': 'hospitalization.hospitalized.currently',\n",
       "    'deprecated': False,\n",
       "    'prior_names': ['hospitalizedCurrently']},\n",
       "   {'name': 'Currently in ICU/Now in ICU',\n",
       "    'field': 'hospitalization.in_icu.currently',\n",
       "    'deprecated': False,\n",
       "    'prior_names': ['inIcuCurrently']},\n",
       "   {'name': 'Currently on ventilator/Now on ventilator',\n",
       "    'field': 'hospitalization.on_ventilator.currently',\n",
       "    'deprecated': False,\n",
       "    'prior_names': ['onVentilatorCurrently']},\n",
       "   {'name': 'Deaths (probable)',\n",
       "    'field': 'outcomes.death.probable',\n",
       "    'deprecated': False,\n",
       "    'prior_names': ['deathProbable']},\n",
       "   {'name': 'Deaths (confirmed)',\n",
       "    'field': 'outcomes.death.confirmed',\n",
       "    'deprecated': False,\n",
       "    'prior_names': ['deathConfirmed']},\n",
       "   {'name': 'Deaths (confirmed and probable)',\n",
       "    'field': 'outcomes.death.cumulative',\n",
       "    'deprecated': False,\n",
       "    'prior_names': ['death']},\n",
       "   {'name': 'Probable Cases', 'deprecated': False, 'prior_names': []},\n",
       "   {'name': 'Last Update (ET)',\n",
       "    'field': 'meta.updated',\n",
       "    'deprecated': False,\n",
       "    'prior_names': ['lastUpdateEt', 'lastUpdateTime', 'checkTimeEt']},\n",
       "   {'name': 'New deaths',\n",
       "    'field': 'outcomes.death.calculated.change_from_prior_day',\n",
       "    'deprecated': False,\n",
       "    'prior_names': ['deathIncrease']},\n",
       "   {'name': 'Date',\n",
       "    'field': 'date',\n",
       "    'deprecated': False,\n",
       "    'prior_names': ['dateModified']}]},\n",
       " 'data': {'date': '2021-01-02',\n",
       "  'state': 'WA',\n",
       "  'meta': {'data_quality_grade': 'B',\n",
       "   'updated': '2020-12-31T07:59:00Z',\n",
       "   'tests': {'total_source': 'totalTestEncountersViral'}},\n",
       "  'cases': {'total': {'value': 246752,\n",
       "    'calculated': {'population_percent': 3.3326,\n",
       "     'change_from_prior_day': 0,\n",
       "     'seven_day_change_percent': 5.9}},\n",
       "   'confirmed': {'value': 237165,\n",
       "    'calculated': {'population_percent': 3.2032,\n",
       "     'change_from_prior_day': 0,\n",
       "     'seven_day_change_percent': 5.7,\n",
       "     'seven_day_average': 232044}},\n",
       "   'probable': {'value': 9587,\n",
       "    'calculated': {'population_percent': 0.1295,\n",
       "     'change_from_prior_day': 0,\n",
       "     'seven_day_change_percent': 10.3,\n",
       "     'seven_day_average': 9212}}},\n",
       "  'tests': {'pcr': {'total': {'value': 3836820,\n",
       "     'calculated': {'population_percent': 51.8202,\n",
       "      'change_from_prior_day': 0,\n",
       "      'seven_day_change_percent': 5.1}},\n",
       "    'pending': {'value': None,\n",
       "     'calculated': {'population_percent': None,\n",
       "      'change_from_prior_day': None,\n",
       "      'seven_day_change_percent': None,\n",
       "      'seven_day_average': None}},\n",
       "    'encounters': {'total': {'value': 3836820,\n",
       "      'calculated': {'population_percent': 51.8202,\n",
       "       'change_from_prior_day': 0,\n",
       "       'seven_day_change_percent': 5.1}}},\n",
       "    'specimens': {'total': {'value': None,\n",
       "      'calculated': {'population_percent': None,\n",
       "       'change_from_prior_day': None,\n",
       "       'seven_day_change_percent': None}},\n",
       "     'positive': {'value': None,\n",
       "      'calculated': {'population_percent': None,\n",
       "       'change_from_prior_day': None,\n",
       "       'seven_day_change_percent': None,\n",
       "       'seven_day_average': None}},\n",
       "     'negative': {'value': None,\n",
       "      'calculated': {'population_percent': None,\n",
       "       'change_from_prior_day': None,\n",
       "       'seven_day_change_percent': None,\n",
       "       'seven_day_average': None}}},\n",
       "    'people': {'total': {'value': None,\n",
       "      'calculated': {'population_percent': None,\n",
       "       'change_from_prior_day': None,\n",
       "       'seven_day_change_percent': None}},\n",
       "     'positive': {'value': 246752,\n",
       "      'calculated': {'population_percent': 3.3326,\n",
       "       'change_from_prior_day': 0,\n",
       "       'seven_day_change_percent': 5.9}},\n",
       "     'negative': {'value': None,\n",
       "      'calculated': {'population_percent': None,\n",
       "       'change_from_prior_day': None,\n",
       "       'seven_day_change_percent': None,\n",
       "       'seven_day_average': None}}}},\n",
       "   'antibody': {'encounters': {'total': {'value': None,\n",
       "      'calculated': {'population_percent': None,\n",
       "       'change_from_prior_day': None,\n",
       "       'seven_day_change_percent': None}},\n",
       "     'positive': {'value': None,\n",
       "      'calculated': {'population_percent': None,\n",
       "       'change_from_prior_day': None,\n",
       "       'seven_day_change_percent': None,\n",
       "       'seven_day_average': None}},\n",
       "     'negative': {'value': None,\n",
       "      'calculated': {'population_percent': None,\n",
       "       'change_from_prior_day': None,\n",
       "       'seven_day_change_percent': None,\n",
       "       'seven_day_average': None}}},\n",
       "    'people': {'total': {'value': None,\n",
       "      'calculated': {'population_percent': None,\n",
       "       'change_from_prior_day': None,\n",
       "       'seven_day_change_percent': None}},\n",
       "     'positive': {'value': None,\n",
       "      'calculated': {'population_percent': None,\n",
       "       'change_from_prior_day': None,\n",
       "       'seven_day_change_percent': None,\n",
       "       'seven_day_average': None}},\n",
       "     'negative': {'value': None,\n",
       "      'calculated': {'population_percent': None,\n",
       "       'change_from_prior_day': None,\n",
       "       'seven_day_change_percent': None,\n",
       "       'seven_day_average': None}}}},\n",
       "   'antigen': {'encounters': {'total': {'value': None,\n",
       "      'calculated': {'population_percent': None,\n",
       "       'change_from_prior_day': None,\n",
       "       'seven_day_change_percent': None}},\n",
       "     'positive': {'value': None,\n",
       "      'calculated': {'population_percent': None,\n",
       "       'change_from_prior_day': None,\n",
       "       'seven_day_change_percent': None,\n",
       "       'seven_day_average': None}},\n",
       "     'negative': {'value': None,\n",
       "      'calculated': {'population_percent': None,\n",
       "       'change_from_prior_day': None,\n",
       "       'seven_day_change_percent': None,\n",
       "       'seven_day_average': None}}},\n",
       "    'people': {'total': {'value': None,\n",
       "      'calculated': {'population_percent': None,\n",
       "       'change_from_prior_day': None,\n",
       "       'seven_day_change_percent': None}},\n",
       "     'positive': {'value': None,\n",
       "      'calculated': {'population_percent': None,\n",
       "       'change_from_prior_day': None,\n",
       "       'seven_day_change_percent': None,\n",
       "       'seven_day_average': None}},\n",
       "     'negative': {'value': None,\n",
       "      'calculated': {'population_percent': None,\n",
       "       'change_from_prior_day': None,\n",
       "       'seven_day_change_percent': None,\n",
       "       'seven_day_average': None}}}}},\n",
       "  'outcomes': {'recovered': {'value': None,\n",
       "    'calculated': {'population_percent': None,\n",
       "     'change_from_prior_day': None,\n",
       "     'seven_day_change_percent': None,\n",
       "     'seven_day_average': None}},\n",
       "   'hospitalized': {'total': {'value': 14748},\n",
       "    'currently': {'value': 1138,\n",
       "     'calculated': {'population_percent': 0.0154,\n",
       "      'change_from_prior_day': 0,\n",
       "      'seven_day_change_percent': -5.2,\n",
       "      'seven_day_average': 1178}},\n",
       "    'in_icu': {'total': {'value': None},\n",
       "     'currently': {'value': 248,\n",
       "      'calculated': {'population_percent': 0.0033,\n",
       "       'change_from_prior_day': 0,\n",
       "       'seven_day_change_percent': 2.1,\n",
       "       'seven_day_average': 247}}},\n",
       "    'on_ventilator': {'total': {'value': None},\n",
       "     'currently': {'value': 118,\n",
       "      'calculated': {'population_percent': 0.0016,\n",
       "       'change_from_prior_day': 0,\n",
       "       'seven_day_change_percent': 9.3,\n",
       "       'seven_day_average': 107}}}},\n",
       "   'death': {'total': {'value': 3461,\n",
       "     'calculated': {'population_percent': 0.0467,\n",
       "      'change_from_prior_day': 0,\n",
       "      'seven_day_change_percent': 8.7,\n",
       "      'seven_day_average': 3325}},\n",
       "    'confirmed': {'value': None,\n",
       "     'calculated': {'population_percent': None,\n",
       "      'change_from_prior_day': None,\n",
       "      'seven_day_change_percent': None,\n",
       "      'seven_day_average': None}},\n",
       "    'probable': {'value': None,\n",
       "     'calculated': {'population_percent': None,\n",
       "      'change_from_prior_day': None,\n",
       "      'seven_day_change_percent': None,\n",
       "      'seven_day_average': None}}}}}}"
      ]
     },
     "execution_count": 4,
     "metadata": {},
     "output_type": "execute_result"
    }
   ],
   "source": [
    "# viewing the data\n",
    "covid_data_us"
   ]
  },
  {
   "cell_type": "code",
   "execution_count": 5,
   "id": "f37e42fc",
   "metadata": {},
   "outputs": [
    {
     "data": {
      "text/plain": [
       "'WA'"
      ]
     },
     "execution_count": 5,
     "metadata": {},
     "output_type": "execute_result"
    }
   ],
   "source": [
    "#getting the state\n",
    "name_of_state = covid_data_us[\"data\"][\"state\"]\n",
    "name_of_state"
   ]
  },
  {
   "cell_type": "code",
   "execution_count": 6,
   "id": "b5cc0ac3",
   "metadata": {},
   "outputs": [
    {
     "data": {
      "text/plain": [
       "'2021-01-02'"
      ]
     },
     "execution_count": 6,
     "metadata": {},
     "output_type": "execute_result"
    }
   ],
   "source": [
    "#getting the date\n",
    "date = covid_data_us[\"data\"][\"date\"]\n",
    "date"
   ]
  },
  {
   "cell_type": "code",
   "execution_count": 7,
   "id": "aa280672",
   "metadata": {},
   "outputs": [
    {
     "data": {
      "text/plain": [
       "246752"
      ]
     },
     "execution_count": 7,
     "metadata": {},
     "output_type": "execute_result"
    }
   ],
   "source": [
    "#getting the total cases\n",
    "total_cases = covid_data_us[\"data\"][\"cases\"][\"total\"][\"value\"]\n",
    "total_cases"
   ]
  },
  {
   "cell_type": "code",
   "execution_count": 8,
   "id": "9a05a8ec",
   "metadata": {},
   "outputs": [
    {
     "data": {
      "text/plain": [
       "237165"
      ]
     },
     "execution_count": 8,
     "metadata": {},
     "output_type": "execute_result"
    }
   ],
   "source": [
    "#getting the confirmed cases\n",
    "confirmed_cases = covid_data_us[\"data\"][\"cases\"][\"confirmed\"][\"value\"]\n",
    "confirmed_cases"
   ]
  },
  {
   "cell_type": "code",
   "execution_count": 9,
   "id": "7d3dfca8",
   "metadata": {},
   "outputs": [],
   "source": [
    "#getting the first row\n",
    "res = requests.get(f\"https://api.covidtracking.com/v2/states/wa/2021-01-20.json\")\n",
    "covid_data_us = res.json()\n",
    "\n",
    "with open(\"washington_covid.csv\" ,mode =\"w\",    encoding= \"utf-8\" ) as fd:\n",
    "    fd.write(\"name_of_state,date,total_cases,confirmed_cases\\n\")\n",
    "    name_of_state = covid_data_us[\"data\"][\"state\"]\n",
    "    date = covid_data_us[\"data\"][\"date\"]\n",
    "    total_cases = covid_data_us[\"data\"][\"cases\"][\"total\"][\"value\"]\n",
    "    confirmed_cases = covid_data_us[\"data\"][\"cases\"][\"confirmed\"][\"value\"]\n",
    "    fd.write(f\"{name_of_state},{date},{total_cases},{confirmed_cases}\\n\")\n",
    "    "
   ]
  },
  {
   "cell_type": "code",
   "execution_count": 10,
   "id": "ee2a068e",
   "metadata": {},
   "outputs": [
    {
     "data": {
      "text/html": [
       "<div>\n",
       "<style scoped>\n",
       "    .dataframe tbody tr th:only-of-type {\n",
       "        vertical-align: middle;\n",
       "    }\n",
       "\n",
       "    .dataframe tbody tr th {\n",
       "        vertical-align: top;\n",
       "    }\n",
       "\n",
       "    .dataframe thead th {\n",
       "        text-align: right;\n",
       "    }\n",
       "</style>\n",
       "<table border=\"1\" class=\"dataframe\">\n",
       "  <thead>\n",
       "    <tr style=\"text-align: right;\">\n",
       "      <th></th>\n",
       "      <th>name_of_state</th>\n",
       "      <th>date</th>\n",
       "      <th>total_cases</th>\n",
       "      <th>confirmed_cases</th>\n",
       "    </tr>\n",
       "  </thead>\n",
       "  <tbody>\n",
       "    <tr>\n",
       "      <th>0</th>\n",
       "      <td>WA</td>\n",
       "      <td>2021-01-20</td>\n",
       "      <td>291989</td>\n",
       "      <td>279421</td>\n",
       "    </tr>\n",
       "  </tbody>\n",
       "</table>\n",
       "</div>"
      ],
      "text/plain": [
       "  name_of_state        date  total_cases  confirmed_cases\n",
       "0            WA  2021-01-20       291989           279421"
      ]
     },
     "execution_count": 10,
     "metadata": {},
     "output_type": "execute_result"
    }
   ],
   "source": [
    "#view the top row\n",
    "import pandas as pd\n",
    "\n",
    "df = pd.read_csv(\"washington_covid.csv\")\n",
    "df"
   ]
  },
  {
   "cell_type": "code",
   "execution_count": null,
   "id": "0c206ded",
   "metadata": {},
   "outputs": [],
   "source": []
  },
  {
   "cell_type": "code",
   "execution_count": 15,
   "id": "a1362a40",
   "metadata": {},
   "outputs": [],
   "source": [
    "# get the data for the next 10 days:\n",
    "day_1 = \"2021-01-\"\n",
    "days = list(range(11,22))\n",
    "with open(\"washington_covid.csv\" ,mode =\"w\",    encoding= \"utf-8\" ) as fd:\n",
    "    fd.write(\"name_of_state,date,total_cases,confirmed_cases\\n\")\n",
    "\n",
    "    for day in days:\n",
    "        res = requests.get(f\"https://api.covidtracking.com/v2/states/wa/{day_1}{day}.json\")\n",
    "        covid_data_us = res.json()\n",
    "        \n",
    "        name_of_state = covid_data_us[\"data\"][\"state\"]\n",
    "        date = covid_data_us[\"data\"][\"date\"]\n",
    "        total_cases = covid_data_us[\"data\"][\"cases\"][\"total\"][\"value\"]\n",
    "        confirmed_cases = covid_data_us[\"data\"][\"cases\"][\"confirmed\"][\"value\"]\n",
    "        fd.write(f\"{name_of_state},{date},{total_cases},{confirmed_cases}\\n\")\n"
   ]
  },
  {
   "cell_type": "code",
   "execution_count": 16,
   "id": "b9f4709b",
   "metadata": {
    "scrolled": true
   },
   "outputs": [
    {
     "data": {
      "text/html": [
       "<div>\n",
       "<style scoped>\n",
       "    .dataframe tbody tr th:only-of-type {\n",
       "        vertical-align: middle;\n",
       "    }\n",
       "\n",
       "    .dataframe tbody tr th {\n",
       "        vertical-align: top;\n",
       "    }\n",
       "\n",
       "    .dataframe thead th {\n",
       "        text-align: right;\n",
       "    }\n",
       "</style>\n",
       "<table border=\"1\" class=\"dataframe\">\n",
       "  <thead>\n",
       "    <tr style=\"text-align: right;\">\n",
       "      <th></th>\n",
       "      <th>name_of_state</th>\n",
       "      <th>date</th>\n",
       "      <th>total_cases</th>\n",
       "      <th>confirmed_cases</th>\n",
       "    </tr>\n",
       "  </thead>\n",
       "  <tbody>\n",
       "    <tr>\n",
       "      <th>0</th>\n",
       "      <td>WA</td>\n",
       "      <td>2021-01-11</td>\n",
       "      <td>271595</td>\n",
       "      <td>260360</td>\n",
       "    </tr>\n",
       "    <tr>\n",
       "      <th>1</th>\n",
       "      <td>WA</td>\n",
       "      <td>2021-01-12</td>\n",
       "      <td>276686</td>\n",
       "      <td>265312</td>\n",
       "    </tr>\n",
       "    <tr>\n",
       "      <th>2</th>\n",
       "      <td>WA</td>\n",
       "      <td>2021-01-13</td>\n",
       "      <td>278544</td>\n",
       "      <td>266701</td>\n",
       "    </tr>\n",
       "    <tr>\n",
       "      <th>3</th>\n",
       "      <td>WA</td>\n",
       "      <td>2021-01-14</td>\n",
       "      <td>281202</td>\n",
       "      <td>269201</td>\n",
       "    </tr>\n",
       "    <tr>\n",
       "      <th>4</th>\n",
       "      <td>WA</td>\n",
       "      <td>2021-01-15</td>\n",
       "      <td>283777</td>\n",
       "      <td>271643</td>\n",
       "    </tr>\n",
       "    <tr>\n",
       "      <th>5</th>\n",
       "      <td>WA</td>\n",
       "      <td>2021-01-16</td>\n",
       "      <td>285970</td>\n",
       "      <td>273703</td>\n",
       "    </tr>\n",
       "    <tr>\n",
       "      <th>6</th>\n",
       "      <td>WA</td>\n",
       "      <td>2021-01-17</td>\n",
       "      <td>285970</td>\n",
       "      <td>273703</td>\n",
       "    </tr>\n",
       "    <tr>\n",
       "      <th>7</th>\n",
       "      <td>WA</td>\n",
       "      <td>2021-01-18</td>\n",
       "      <td>289939</td>\n",
       "      <td>277404</td>\n",
       "    </tr>\n",
       "    <tr>\n",
       "      <th>8</th>\n",
       "      <td>WA</td>\n",
       "      <td>2021-01-19</td>\n",
       "      <td>289939</td>\n",
       "      <td>277404</td>\n",
       "    </tr>\n",
       "    <tr>\n",
       "      <th>9</th>\n",
       "      <td>WA</td>\n",
       "      <td>2021-01-20</td>\n",
       "      <td>291989</td>\n",
       "      <td>279421</td>\n",
       "    </tr>\n",
       "    <tr>\n",
       "      <th>10</th>\n",
       "      <td>WA</td>\n",
       "      <td>2021-01-21</td>\n",
       "      <td>294017</td>\n",
       "      <td>281258</td>\n",
       "    </tr>\n",
       "  </tbody>\n",
       "</table>\n",
       "</div>"
      ],
      "text/plain": [
       "   name_of_state        date  total_cases  confirmed_cases\n",
       "0             WA  2021-01-11       271595           260360\n",
       "1             WA  2021-01-12       276686           265312\n",
       "2             WA  2021-01-13       278544           266701\n",
       "3             WA  2021-01-14       281202           269201\n",
       "4             WA  2021-01-15       283777           271643\n",
       "5             WA  2021-01-16       285970           273703\n",
       "6             WA  2021-01-17       285970           273703\n",
       "7             WA  2021-01-18       289939           277404\n",
       "8             WA  2021-01-19       289939           277404\n",
       "9             WA  2021-01-20       291989           279421\n",
       "10            WA  2021-01-21       294017           281258"
      ]
     },
     "execution_count": 16,
     "metadata": {},
     "output_type": "execute_result"
    }
   ],
   "source": [
    "#view the data for the next 10 days:\n",
    "import pandas as pd\n",
    "\n",
    "df = pd.read_csv(\"washington_covid2.csv\")\n",
    "df"
   ]
  },
  {
   "cell_type": "code",
   "execution_count": null,
   "id": "e3882d62",
   "metadata": {},
   "outputs": [],
   "source": []
  },
  {
   "cell_type": "code",
   "execution_count": null,
   "id": "59717b9f",
   "metadata": {},
   "outputs": [],
   "source": []
  },
  {
   "cell_type": "code",
   "execution_count": null,
   "id": "52a2046b",
   "metadata": {},
   "outputs": [],
   "source": []
  }
 ],
 "metadata": {
  "kernelspec": {
   "display_name": "Python 3 (ipykernel)",
   "language": "python",
   "name": "python3"
  },
  "language_info": {
   "codemirror_mode": {
    "name": "ipython",
    "version": 3
   },
   "file_extension": ".py",
   "mimetype": "text/x-python",
   "name": "python",
   "nbconvert_exporter": "python",
   "pygments_lexer": "ipython3",
   "version": "3.11.5"
  }
 },
 "nbformat": 4,
 "nbformat_minor": 5
}
